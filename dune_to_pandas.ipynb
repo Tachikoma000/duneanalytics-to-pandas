{
 "cells": [
  {
   "cell_type": "code",
   "execution_count": 9,
   "metadata": {
    "collapsed": true
   },
   "outputs": [
    {
     "name": "stdout",
     "output_type": "stream",
     "text": [
      "{'data': {'get_result': {'job_id': None, 'result_id': '2cb8c141-6372-48e7-b9e3-c9df34749d56', '__typename': 'get_result_response'}}}\n",
      "{'data': {'query_results': [{'id': '2cb8c141-6372-48e7-b9e3-c9df34749d56', 'job_id': '380f097e-266e-476e-9435-d990ac04f391', 'error': None, 'runtime': 0, 'generated_at': '2021-11-30T20:49:27.764098+00:00', 'columns': ['token', 'swap_date', 'SOHM_deposits_from_zap'], '__typename': 'query_results'}], 'get_result_by_result_id': [{'data': {'SOHM_deposits_from_zap': 2, 'swap_date': '2021-03-07', 'token': 'BNT'}, '__typename': 'get_result_template'}, {'data': {'SOHM_deposits_from_zap': 1, 'swap_date': '2021-03-07', 'token': 'DAI'}, '__typename': 'get_result_template'}, {'data': {'SOHM_deposits_from_zap': 1, 'swap_date': '2021-03-25', 'token': 'DAI'}, '__typename': 'get_result_template'}, {'data': {'SOHM_deposits_from_zap': 2, 'swap_date': '2021-10-10', 'token': 'DAI'}, '__typename': 'get_result_template'}, {'data': {'SOHM_deposits_from_zap': 1, 'swap_date': '2021-11-25', 'token': 'DAI'}, '__typename': 'get_result_template'}, {'data': {'SOHM_deposits_from_zap': 3, 'swap_date': '2021-10-10', 'token': 'OHM'}, '__typename': 'get_result_template'}, {'data': {'SOHM_deposits_from_zap': 1, 'swap_date': '2021-10-19', 'token': 'OHM'}, '__typename': 'get_result_template'}, {'data': {'SOHM_deposits_from_zap': 2, 'swap_date': '2021-03-07', 'token': 'alusd'}, '__typename': 'get_result_template'}, {'data': {'SOHM_deposits_from_zap': 1, 'swap_date': '2021-03-25', 'token': 'alusd'}, '__typename': 'get_result_template'}, {'data': {'SOHM_deposits_from_zap': 2, 'swap_date': '2021-10-10', 'token': 'sOlympus'}, '__typename': 'get_result_template'}, {'data': {'SOHM_deposits_from_zap': 1, 'swap_date': '2021-11-03', 'token': 'sOlympus'}, '__typename': 'get_result_template'}, {'data': {'SOHM_deposits_from_zap': 1, 'swap_date': '2021-11-07', 'token': 'sOlympus'}, '__typename': 'get_result_template'}, {'data': {'SOHM_deposits_from_zap': 1, 'swap_date': '2021-11-25', 'token': 'sOlympus'}, '__typename': 'get_result_template'}, {'data': {'SOHM_deposits_from_zap': 2, 'swap_date': '2021-10-10', 'token': 'vBNT'}, '__typename': 'get_result_template'}, {'data': {'SOHM_deposits_from_zap': 1, 'swap_date': '2021-11-03', 'token': 'wsOHM'}, '__typename': 'get_result_template'}]}}\n"
     ]
    }
   ],
   "source": [
    "# Packages: We only need two packages for this script. The first is the dune analytics package which can be found here:\n",
    "# https://github.com/itzmestar/duneanalytics\n",
    "# Massive credit to the creator of the duneanalytics package (itzmestar) . your work has helped me significantly\n",
    "# The second is Pandas\n",
    "\n",
    "from duneanalytics import DuneAnalytics\n",
    "import pandas as pd\n",
    "# initialize client. This simply means log into your dune analytics account. ('username','password')\n",
    "dune = DuneAnalytics('username', 'password')\n",
    "# try to login\n",
    "dune.login()\n",
    "# fetch token\n",
    "dune.fetch_auth_token()\n",
    "# fetch query result id using query id. https://dune.xyz/queries/268883 . Observe the location of the query number on\n",
    "# the url\n",
    "result_id = dune.query_result_id(query_id=268883)\n",
    "# fetch query result\n",
    "data = dune.query_result(result_id)\n",
    "# assign the results to a pandas data frame. You can stop here technically. But depending on your query, you might\n",
    "# need to do some more unpacking and clean up\n",
    "df = pd.DataFrame(data)"
   ]
  },
  {
   "cell_type": "code",
   "execution_count": 3,
   "outputs": [],
   "source": [
    "# I know the data comes in as a dict of dicts, so I have cleaned up the data and created columns\n",
    "df = df['data']['get_result_by_result_id']"
   ],
   "metadata": {
    "collapsed": false,
    "pycharm": {
     "name": "#%%\n"
    }
   }
  },
  {
   "cell_type": "code",
   "execution_count": 4,
   "outputs": [],
   "source": [
    "# More unpacking and formatting\n",
    "df2 = pd.DataFrame(df)"
   ],
   "metadata": {
    "collapsed": false,
    "pycharm": {
     "name": "#%%\n"
    }
   }
  },
  {
   "cell_type": "code",
   "execution_count": 5,
   "outputs": [
    {
     "data": {
      "text/plain": "0     {'SOHM_deposits_from_zap': 2, 'swap_date': '20...\n1     {'SOHM_deposits_from_zap': 1, 'swap_date': '20...\n2     {'SOHM_deposits_from_zap': 1, 'swap_date': '20...\n3     {'SOHM_deposits_from_zap': 2, 'swap_date': '20...\n4     {'SOHM_deposits_from_zap': 1, 'swap_date': '20...\n5     {'SOHM_deposits_from_zap': 3, 'swap_date': '20...\n6     {'SOHM_deposits_from_zap': 1, 'swap_date': '20...\n7     {'SOHM_deposits_from_zap': 2, 'swap_date': '20...\n8     {'SOHM_deposits_from_zap': 1, 'swap_date': '20...\n9     {'SOHM_deposits_from_zap': 2, 'swap_date': '20...\n10    {'SOHM_deposits_from_zap': 1, 'swap_date': '20...\n11    {'SOHM_deposits_from_zap': 1, 'swap_date': '20...\n12    {'SOHM_deposits_from_zap': 1, 'swap_date': '20...\n13    {'SOHM_deposits_from_zap': 2, 'swap_date': '20...\n14    {'SOHM_deposits_from_zap': 1, 'swap_date': '20...\nName: data, dtype: object"
     },
     "execution_count": 5,
     "metadata": {},
     "output_type": "execute_result"
    }
   ],
   "source": [
    "# Let's look at the data and see if we like the form\n",
    "df2['data']"
   ],
   "metadata": {
    "collapsed": false,
    "pycharm": {
     "name": "#%%\n"
    }
   }
  },
  {
   "cell_type": "code",
   "execution_count": 6,
   "outputs": [],
   "source": [
    "# I like to work with serialized data\n",
    "df2 = df2[\"data\"].apply(pd.Series)"
   ],
   "metadata": {
    "collapsed": false,
    "pycharm": {
     "name": "#%%\n"
    }
   }
  },
  {
   "cell_type": "code",
   "execution_count": 8,
   "outputs": [
    {
     "data": {
      "text/plain": "    SOHM_deposits_from_zap   swap_date     token\n0                        2  2021-03-07       BNT\n1                        1  2021-03-07       DAI\n2                        1  2021-03-25       DAI\n3                        2  2021-10-10       DAI\n4                        1  2021-11-25       DAI\n5                        3  2021-10-10       OHM\n6                        1  2021-10-19       OHM\n7                        2  2021-03-07     alusd\n8                        1  2021-03-25     alusd\n9                        2  2021-10-10  sOlympus\n10                       1  2021-11-03  sOlympus\n11                       1  2021-11-07  sOlympus\n12                       1  2021-11-25  sOlympus\n13                       2  2021-10-10      vBNT\n14                       1  2021-11-03     wsOHM",
      "text/html": "<div>\n<style scoped>\n    .dataframe tbody tr th:only-of-type {\n        vertical-align: middle;\n    }\n\n    .dataframe tbody tr th {\n        vertical-align: top;\n    }\n\n    .dataframe thead th {\n        text-align: right;\n    }\n</style>\n<table border=\"1\" class=\"dataframe\">\n  <thead>\n    <tr style=\"text-align: right;\">\n      <th></th>\n      <th>SOHM_deposits_from_zap</th>\n      <th>swap_date</th>\n      <th>token</th>\n    </tr>\n  </thead>\n  <tbody>\n    <tr>\n      <th>0</th>\n      <td>2</td>\n      <td>2021-03-07</td>\n      <td>BNT</td>\n    </tr>\n    <tr>\n      <th>1</th>\n      <td>1</td>\n      <td>2021-03-07</td>\n      <td>DAI</td>\n    </tr>\n    <tr>\n      <th>2</th>\n      <td>1</td>\n      <td>2021-03-25</td>\n      <td>DAI</td>\n    </tr>\n    <tr>\n      <th>3</th>\n      <td>2</td>\n      <td>2021-10-10</td>\n      <td>DAI</td>\n    </tr>\n    <tr>\n      <th>4</th>\n      <td>1</td>\n      <td>2021-11-25</td>\n      <td>DAI</td>\n    </tr>\n    <tr>\n      <th>5</th>\n      <td>3</td>\n      <td>2021-10-10</td>\n      <td>OHM</td>\n    </tr>\n    <tr>\n      <th>6</th>\n      <td>1</td>\n      <td>2021-10-19</td>\n      <td>OHM</td>\n    </tr>\n    <tr>\n      <th>7</th>\n      <td>2</td>\n      <td>2021-03-07</td>\n      <td>alusd</td>\n    </tr>\n    <tr>\n      <th>8</th>\n      <td>1</td>\n      <td>2021-03-25</td>\n      <td>alusd</td>\n    </tr>\n    <tr>\n      <th>9</th>\n      <td>2</td>\n      <td>2021-10-10</td>\n      <td>sOlympus</td>\n    </tr>\n    <tr>\n      <th>10</th>\n      <td>1</td>\n      <td>2021-11-03</td>\n      <td>sOlympus</td>\n    </tr>\n    <tr>\n      <th>11</th>\n      <td>1</td>\n      <td>2021-11-07</td>\n      <td>sOlympus</td>\n    </tr>\n    <tr>\n      <th>12</th>\n      <td>1</td>\n      <td>2021-11-25</td>\n      <td>sOlympus</td>\n    </tr>\n    <tr>\n      <th>13</th>\n      <td>2</td>\n      <td>2021-10-10</td>\n      <td>vBNT</td>\n    </tr>\n    <tr>\n      <th>14</th>\n      <td>1</td>\n      <td>2021-11-03</td>\n      <td>wsOHM</td>\n    </tr>\n  </tbody>\n</table>\n</div>"
     },
     "execution_count": 8,
     "metadata": {},
     "output_type": "execute_result"
    }
   ],
   "source": [
    "df2\n",
    "# That's basically it. you can filter and clean up your data further is required"
   ],
   "metadata": {
    "collapsed": false,
    "pycharm": {
     "name": "#%%\n"
    }
   }
  },
  {
   "cell_type": "code",
   "execution_count": null,
   "outputs": [],
   "source": [
    "# That's basically it. you can filter and clean up your data further is required"
   ],
   "metadata": {
    "collapsed": false,
    "pycharm": {
     "name": "#%%\n"
    }
   }
  },
  {
   "cell_type": "code",
   "execution_count": null,
   "outputs": [],
   "source": [
    "# More unpacking and formatting\n",
    "df2 = pd.DataFrame(df)"
   ],
   "metadata": {
    "collapsed": false,
    "pycharm": {
     "name": "#%%\n"
    }
   }
  },
  {
   "cell_type": "code",
   "execution_count": null,
   "outputs": [],
   "source": [
    "# Let's look at the data and see if we like the form\n",
    "df2['data']"
   ],
   "metadata": {
    "collapsed": false,
    "pycharm": {
     "name": "#%%\n"
    }
   }
  },
  {
   "cell_type": "code",
   "execution_count": null,
   "outputs": [],
   "source": [
    "# I like to work with serialized data\n",
    "df2 = df2[\"data\"].apply(pd.Series)"
   ],
   "metadata": {
    "collapsed": false,
    "pycharm": {
     "name": "#%%\n"
    }
   }
  },
  {
   "cell_type": "code",
   "execution_count": null,
   "outputs": [],
   "source": [
    "# That's basically it. you can filter and clean up your data further is required"
   ],
   "metadata": {
    "collapsed": false,
    "pycharm": {
     "name": "#%%\n"
    }
   }
  }
 ],
 "metadata": {
  "kernelspec": {
   "display_name": "Python 3",
   "language": "python",
   "name": "python3"
  },
  "language_info": {
   "codemirror_mode": {
    "name": "ipython",
    "version": 2
   },
   "file_extension": ".py",
   "mimetype": "text/x-python",
   "name": "python",
   "nbconvert_exporter": "python",
   "pygments_lexer": "ipython2",
   "version": "2.7.6"
  }
 },
 "nbformat": 4,
 "nbformat_minor": 0
}